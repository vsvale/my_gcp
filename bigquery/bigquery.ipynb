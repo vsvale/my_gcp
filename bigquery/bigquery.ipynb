{
 "cells": [
  {
   "attachments": {},
   "cell_type": "markdown",
   "metadata": {},
   "source": [
    "read json"
   ]
  },
  {
   "cell_type": "code",
   "execution_count": null,
   "metadata": {
    "vscode": {
     "languageId": "bat"
    }
   },
   "outputs": [],
   "source": [
    "bq load --source_format=NEWLINE_DELIMITED_JSON --autodetect OneWaySolution.yelp-users-json gs://owshq-zone/files/users/yelp_academic_dataset_user_2021.json"
   ]
  },
  {
   "attachments": {},
   "cell_type": "markdown",
   "metadata": {},
   "source": [
    "### Cluster table\n",
    "- Automatic recluster"
   ]
  },
  {
   "cell_type": "code",
   "execution_count": null,
   "metadata": {
    "vscode": {
     "languageId": "sql"
    }
   },
   "outputs": [],
   "source": [
    "create table `silver-charmer-243611.OneWaySolution.clustered-yelp-reviews`\n",
    "(\n",
    "    date TIMESTAMP,\n",
    "    useful INTEGER,\n",
    ")\n",
    "CLUSTER BY date AS \n",
    "(\n",
    "    SELECT date, useful from `silver-charmer-243611.OneWaySolution.clustered-yelp-reviews-json`\n",
    ")"
   ]
  },
  {
   "attachments": {},
   "cell_type": "markdown",
   "metadata": {},
   "source": [
    "Snapshot table"
   ]
  },
  {
   "cell_type": "code",
   "execution_count": null,
   "metadata": {
    "vscode": {
     "languageId": "sql"
    }
   },
   "outputs": [],
   "source": [
    "CREATE SNAPSHOT TABLE `silver-charmer-243611.OneWaySolution.yelp-reviews-snapshot`\n",
    "CLONE `silver-charmer-243611.OneWaySolution.clustered-yelp-reviews``\n",
    "FOR SYSTEM_TIME AS OF TIMESTAMP_SUB(CURRENT_TIMESTAMP(),INTERVAL 1  HOUR);"
   ]
  },
  {
   "attachments": {},
   "cell_type": "markdown",
   "metadata": {},
   "source": [
    "Materialized View"
   ]
  },
  {
   "cell_type": "code",
   "execution_count": null,
   "metadata": {
    "vscode": {
     "languageId": "sql"
    }
   },
   "outputs": [],
   "source": [
    "CREATE MATERIALIZED VIEW `silver-charmer-243611.OneWaySolution.m-view-yelp-reviews`\n",
    "AS\n",
    "(\n",
    "    SELECT user.user_id,\n",
    "    SUM(user.review_count) AS reviews,\n",
    "    COUNT(reviews.stars) AS stars\n",
    "FROM `silver-charmer-243611.OneWaySolution.yelp-users-json` AS users\n",
    "INNER JOIN `silver-charmer-243611.OneWaySolution.clustered-yelp-reviews-json` as reviews\n",
    "ON users.user_id = reviews.user_id\n",
    "GROUP BY users.user_id\n",
    ");"
   ]
  },
  {
   "cell_type": "markdown",
   "metadata": {},
   "source": [
    "External table"
   ]
  },
  {
   "cell_type": "code",
   "execution_count": null,
   "metadata": {
    "vscode": {
     "languageId": "sql"
    }
   },
   "outputs": [],
   "source": [
    "CREATE OR REPLACE EXTERNAL TABLE `silver-charmer-243611.OneWaySolution.ex-tb-golg-reviews`\n",
    "OPTIONS\n",
    "(\n",
    "    format= 'PARQUET',\n",
    "    uris = ['gs://svc-orion-dev/files/gold-reviews/*']\n",
    ");"
   ]
  }
 ],
 "metadata": {
  "language_info": {
   "name": "python"
  },
  "orig_nbformat": 4
 },
 "nbformat": 4,
 "nbformat_minor": 2
}
